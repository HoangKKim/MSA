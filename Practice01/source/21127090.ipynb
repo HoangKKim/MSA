{
 "cells": [
  {
   "cell_type": "markdown",
   "metadata": {},
   "source": [
    "<center><h1><b>PRACTICCE 01: NUMPY</b></h1></center>"
   ]
  },
  {
   "cell_type": "markdown",
   "metadata": {},
   "source": [
    "- Fullname: Võ Nguyễn Hoàng Kim\n",
    "- Student ID: 21127090"
   ]
  },
  {
   "cell_type": "markdown",
   "metadata": {},
   "source": [
    "<h2> <b>Import needed Library </b></h2>"
   ]
  },
  {
   "cell_type": "code",
   "execution_count": null,
   "metadata": {},
   "outputs": [],
   "source": [
    "import numpy as np"
   ]
  },
  {
   "cell_type": "markdown",
   "metadata": {},
   "source": [
    "<h2> <b>1. Mean, Median</b></h2>"
   ]
  },
  {
   "cell_type": "markdown",
   "metadata": {},
   "source": [
    "<h3><b>a. Mean</b></h3>"
   ]
  },
  {
   "cell_type": "code",
   "execution_count": null,
   "metadata": {},
   "outputs": [],
   "source": [
    "# Mean of X with X is an 1d array\n",
    "X = [1, 2, 3, 4, 5]\n",
    "\n",
    "X = np.array([[42, 4],\n",
    "              [52, 5],\n",
    "              [48, 4],\n",
    "              [58, 3]])\n",
    "print(\"X = \", X)\n",
    "print()\n",
    "\n",
    "print(\"Mean X: \", np.mean(X))                       # if not axis, it will compute mean value as a flattened array                          \n",
    "print(\"Mean X with axis = 0: \", np.mean(X, 0))      # with axis = 0, the function will compute along the Y-axis\n",
    "print(\"Mean X with axis = 1: \", np.mean(X, 1))      # with axis = 1, the function will compute along the X-axis\n",
    "print()\n",
    "\n",
    "# dtype in mean computing\n",
    "a = np.zeros((2, 512*512), dtype=np.float32)        # create 2d array with the shape is (2 rows , 512*512 cols)\n",
    "                                                    # data type of each element is float32\n",
    "a[0, :] = 1.0       \n",
    "a[1, :] = 0.1\n",
    "\n",
    "print(\"a = \", a)\n",
    "print()\n",
    "\n",
    "print(\"a.shape: \",a.shape)\n",
    "print(\"mean a (with f32) = \",np.mean(a))       # in single precision, mean can be inaccurate\n",
    "\n",
    "# to be more accurate, computing the mean in float64: \n",
    "print(\"mean a (with f64) = \", np.mean(a, dtype=np.float64))"
   ]
  },
  {
   "cell_type": "markdown",
   "metadata": {},
   "source": [
    "<h3><b>b. Median</b></h3>"
   ]
  },
  {
   "cell_type": "code",
   "execution_count": null,
   "metadata": {},
   "outputs": [],
   "source": [
    "# Median\n",
    "X = np.array([2, 5, 3, 1, 7])           # median is computed based on an ordered list (from least to greatest)\n",
    "Y = np.array([2, 1, 8, 5, 7, 9])\n",
    "\n",
    "print(\"Median X: \", np.median(X))       # if number of element is odd, the median is the middle value\n",
    "print(\"Median Y: \", np.median(Y))       # if number of element is even, the median is the average of two middle value\n",
    "print() \n",
    "\n",
    "X = np.array([[42, 4],                  # X_sorted = [[3, 4],\n",
    "              [52, 5],                  #             [4, 5],  \n",
    "              [48, 4],                  #             [42, 48],\n",
    "              [58, 3]])                 #             [52, 58],\n",
    "\n",
    "print(\"X = \", X)\n",
    "print()\n",
    "\n",
    "print(\"Median = \", np.median(X))                  # if not axis, it will compute median value as a flattened array                                                    \n",
    "print(\"Median (axis = 0) = \", np.median(X, 0))    # if axis = 0, it will compute median along the Y-axis\n",
    "print(\"Median (axis = 1) = \", np.median(X, 1))    # if axis = 1, it will compute median along the X-axis\n"
   ]
  },
  {
   "cell_type": "markdown",
   "metadata": {},
   "source": [
    "<h3><b>c. Handle with NaN</b></h3>"
   ]
  },
  {
   "cell_type": "code",
   "execution_count": null,
   "metadata": {},
   "outputs": [],
   "source": [
    "# Handle with NaN - not a number\n",
    "X = np.array([2, np.nan, 5, 9, 7])          # sorted X_sorted = [2, 5, 7, 9]\n",
    "print(\"X = \", X)\n",
    "print()\n",
    "\n",
    "print(\"Mean = \", np.mean(X))              # can not compute\n",
    "print(\"Median = \", np.median(X))            # can not compute\n",
    "print()\n",
    "\n",
    "print(\"nan Mean = \", np.nanmean(X))       # remove nan from the array, compute on sorted X\n",
    "print(\"nan Median = \", np.nanmedian(X))     # remove nan from the array, compute on sorted X\n"
   ]
  },
  {
   "cell_type": "markdown",
   "metadata": {},
   "source": [
    "<h2><b>2. Max, Min </b></h2>"
   ]
  },
  {
   "cell_type": "markdown",
   "metadata": {},
   "source": [
    "<h3><b>a. Max</b></h3>"
   ]
  },
  {
   "cell_type": "code",
   "execution_count": null,
   "metadata": {},
   "outputs": [],
   "source": [
    "# Order statistics\n",
    "X = np.array([[42, 4],\n",
    "              [52, 5],\n",
    "              [48, 4],\n",
    "              [58, 3]])\n",
    "print(\"X = \",X)\n",
    "print()\n",
    "\n",
    "print(\"Max = \", np.max(X))                  # get the max value of array X \n",
    "print(\"Max (axix = 0): \",np.max(X, 0))      # get the max value along Y-axis\n",
    "print(\"Max (axix = 1): \",np.max(X, 1))      # get the max value along X-axis"
   ]
  },
  {
   "cell_type": "markdown",
   "metadata": {},
   "source": [
    "<h3><b>b. Min</b></h3>"
   ]
  },
  {
   "cell_type": "code",
   "execution_count": null,
   "metadata": {},
   "outputs": [],
   "source": [
    "X = np.array([[42, 4],\n",
    "              [52, 5],\n",
    "              [48, 4],\n",
    "              [58, 3]])\n",
    "print(\"X = \",X)\n",
    "print()\n",
    "print(\"Min = \", np.min(X))                  # get the min value of array X\n",
    "print(\"Min (axix = 0): \",np.min(X, 0))      # get the min value along Y-axis\n",
    "print(\"Min (axix = 1): \",np.min(X, 1))      # get the min value along X-axis"
   ]
  },
  {
   "cell_type": "markdown",
   "metadata": {},
   "source": [
    "<h3><b>c. Handle with NaN</b></h3>"
   ]
  },
  {
   "cell_type": "code",
   "execution_count": null,
   "metadata": {},
   "outputs": [],
   "source": [
    "# Order statistics with NaN\n",
    "X = np.array([[42, 4],\n",
    "              [52, 5],\n",
    "              [np.nan, 4],\n",
    "              [58, np.nan]])\n",
    "print(\"X = \",X)\n",
    "print()\n",
    "\n",
    "print(\"Max = \", np.max(X))                  # get the max value of array X\n",
    "print(\"Min = \", np.min(X))                  # get the min value of array X\n",
    "print()\n",
    "\n",
    "print(\"nan Max = \", np.nanmax(X))        # ignore(remove) NaN, then find the max value\n",
    "print(\"nan Min = \", np.nanmin(X))        # ignore(remove) NaN, then find the min value"
   ]
  },
  {
   "cell_type": "markdown",
   "metadata": {},
   "source": [
    "<h2><b>3. Range</b></h2>"
   ]
  },
  {
   "cell_type": "code",
   "execution_count": null,
   "metadata": {},
   "outputs": [],
   "source": [
    "X = np.array([[42, 4],\n",
    "              [52, 5],\n",
    "              [48, 4],\n",
    "              [58, 3]])\n",
    "print(\"X = \", X)\n",
    "print()                                    \n",
    "\n",
    "print(\"Range = \", np.ptp(X))                            # range: difference between the maximum and minimum values: 99 and 14 (in this case)\n",
    "print(\"Range (axis = 0): \", np.ptp(X, axis = 0))        # get range alow Y-axis\n",
    "print(\"Range (axis = 1): \", np.ptp(X, axis = 1))        # get range alow X-axis\n"
   ]
  },
  {
   "cell_type": "markdown",
   "metadata": {},
   "source": [
    "<h2><b>4. Variance & Standard Deviation</b></h2>"
   ]
  },
  {
   "cell_type": "markdown",
   "metadata": {},
   "source": [
    "<h3><b>a. Variance</b></h3>"
   ]
  },
  {
   "cell_type": "code",
   "execution_count": null,
   "metadata": {},
   "outputs": [],
   "source": [
    "# Variance & Standard deviation\n",
    "X = np.array([[42, 4],\n",
    "              [52, 5],\n",
    "              [48, 4],\n",
    "              [58, 3]])\n",
    "\n",
    "print(\"X = \", X)\n",
    "print()\n",
    "\n",
    "print(\"Variance: \", np.var(X))                          # Compute the variance of X\n",
    "print(\"Variance (axis = 0): \", np.var(X, 0))            # Compute the variance along axis-Y\n",
    "print(\"Variance (axis = 1): \", np.var(X, 1))            # Compute the variance along axis-X"
   ]
  },
  {
   "cell_type": "markdown",
   "metadata": {},
   "source": [
    "<h3><b>b. Standard Deviation</b></h3>"
   ]
  },
  {
   "cell_type": "code",
   "execution_count": null,
   "metadata": {},
   "outputs": [],
   "source": [
    "X = np.array([[42, 4],\n",
    "              [52, 5],\n",
    "              [48, 4],\n",
    "              [58, 3]])\n",
    "\n",
    "print(\"X = \", X)\n",
    "print()\n",
    "\n",
    "print(\"Standard Deviation: \", np.std(X))                                # Compute the standard deviation of X\n",
    "print(\"Standard Deviation (axis = 0): \", np.std(X, 0))                  # Compute the standard deviation along axis-Y\n",
    "print(\"Standard Deviation (axis = 1): \", np.std(X, 1))                  # Compute the standard deviation along axis-X\n",
    "\n",
    "print() "
   ]
  },
  {
   "cell_type": "markdown",
   "metadata": {},
   "source": [
    "<h3><b>c. Handle with NaN</b></h3>"
   ]
  },
  {
   "cell_type": "code",
   "execution_count": null,
   "metadata": {},
   "outputs": [],
   "source": [
    "# Variance & Standard Devitation with NaN\n",
    "X = np.array([[42, 4],\n",
    "              [52, 5],\n",
    "              [np.nan, 4],\n",
    "              [58, np.nan]])\n",
    "print(\"X = \", X)\n",
    "print()\n",
    "\n",
    "print(\"Variance: \", np.var(X))                          # with NaN, the normal np.var() function can not calculate the variance\n",
    "print(\"Standard Deviation: \", np.std(X))                # with NaN, the normal np.std() function can not calculate the Standard Deviation\n",
    "print()\n",
    "\n",
    "print(\"nan Variance : \", np.nanvar(X))                  # ignore NaN, compute Variance with 3 remaining number\n",
    "print(\"nan Standard Deviation: \", np.nanstd(X))         # ignore NaN, compute Standard Deviation with 3 remaining number"
   ]
  },
  {
   "cell_type": "markdown",
   "metadata": {},
   "source": [
    "<h2><b>5. Correlation</b></h2>"
   ]
  },
  {
   "cell_type": "code",
   "execution_count": null,
   "metadata": {},
   "outputs": [],
   "source": [
    "X = np.array([[42, 4],\n",
    "              [52, 5],\n",
    "              [48, 4],\n",
    "              [58, 3]])\n",
    "\n",
    "print(\"X = \", X)\n",
    "print()\n",
    "\n",
    "print(\"Correlation: \\n\", np.corrcoef(X, rowvar=False))        # in this case, each column is a variable of X, each row is the observations\n"
   ]
  }
 ],
 "metadata": {
  "kernelspec": {
   "display_name": ".venv",
   "language": "python",
   "name": "python3"
  },
  "language_info": {
   "codemirror_mode": {
    "name": "ipython",
    "version": 3
   },
   "file_extension": ".py",
   "mimetype": "text/x-python",
   "name": "python",
   "nbconvert_exporter": "python",
   "pygments_lexer": "ipython3",
   "version": "3.8.10"
  }
 },
 "nbformat": 4,
 "nbformat_minor": 2
}
